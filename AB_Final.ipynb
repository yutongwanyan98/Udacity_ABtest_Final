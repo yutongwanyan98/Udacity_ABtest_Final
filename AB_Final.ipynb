{
 "metadata": {
  "language_info": {
   "codemirror_mode": {
    "name": "ipython",
    "version": 3
   },
   "file_extension": ".py",
   "mimetype": "text/x-python",
   "name": "python",
   "nbconvert_exporter": "python",
   "pygments_lexer": "ipython3",
   "version": "3.8.3-final"
  },
  "orig_nbformat": 2,
  "kernelspec": {
   "name": "Python 3.8.3 64-bit ('base': conda)",
   "display_name": "Python 3.8.3 64-bit ('base': conda)",
   "metadata": {
    "interpreter": {
     "hash": "0c53ae25c2782bb362013116034e4deaea81a39d97ee14a14a1a6d82e5672747"
    }
   }
  }
 },
 "nbformat": 4,
 "nbformat_minor": 2,
 "cells": [
  {
   "cell_type": "markdown",
   "metadata": {},
   "source": [
    "# Udacity AB Test (by Google) - Final Project \n",
    "## Can new approach effectively reduce online course cancellations? \n",
    "\n",
    "### Problem Statement / Overview\n",
    "This analytical jobs aims to help Udacity determining if adopting new user-flows can help the company provide better service and support to students. Currenlty, when students visit Udacity course page, there are two options: \"start free trial\", and \"access course materials.\n",
    "- \"Start free trial\": after clicking this, students will be asked to enter their payment information and then enrolled in 14-day free trial; after 14 days, they will be charged automatically if they don't cancel the course first. \n",
    "- \"Access course materials\": students will be able to access course videos and quizes, but no coaching service, verified certificate, or project submission.\n",
    "\n",
    "However, if students don't feel they have enough time committed to the course, they tend to cancel; therefore, Udacity wants to test a change that, **after students click on 'Start a free trial\", they will be askes hou much time they can commit to study per week**; students who don't have enough time (under 5 hours/week) would be told \"Udacity courses usually require a greater time commitment for successful completion\" and asked if they would love to take \"access course for free\" instead. \n",
    "\n",
    "If students get to know what to expect upfront, they can make wiser decision and overall Udacity can improve its user experience. In other words: Udacity wants to reduce total number of users who enrolled without significantly reducing other metrics like pageviews or course completion.  \n",
    "\n",
    "More details here: [Instructions](Instructions.pdf)\n",
    "\n",
    "\n",
    "### User flows and Metrics Choice\n",
    "\n",
    "\n",
    "![User flows and metrics](User_flows.png)\n",
    "\n",
    "\n",
    "- **Unit of diversion**: (given by Udacity) unit to assign to treatment and control groups. The unit of diversion here is **a cookie**.\n",
    "\n",
    "**Invariant Metrics**: metrics that are not affected by the change \n",
    "\n",
    "- Num of cookies: number of unique daily cookies to view course overview page\n",
    "- Num of clicks: number of unique daily cookies to click \"start free trial\"\n",
    "- CTR (click-through-rate): num of cookies / num of clicks to click \"start free trial\"\n",
    "\n",
    "** Evaluation Metrics **: metrics that are affected by the change \n",
    "\n",
    "- Gross conversion ($GC$): number of user_ids enrolled / number of clicks\n",
    "- Rentention ($RR$): number of user_ids who paid / number of user_ids enrolled\n",
    "- Net conversion ($NC$): number of payments / number of clicks\n",
    "\n",
    "### Hypothesis \n",
    "\n",
    "\n",
    "\n",
    "- $H_0$: asking students' time commitment after they clicking 'start free trial' **Will NOT** affect $GC$, $RR$, and $NC$;\n",
    "- $H_a$: asking students' time commitment after they clicking 'start free trial' **WILL** affect $GC$, $RR$, and $NC$;\n",
    "\n",
    "\n"
   ]
  },
  {
   "cell_type": "code",
   "execution_count": 6,
   "metadata": {},
   "outputs": [],
   "source": [
    "import numpy as np \n",
    "import pandas as pd\n",
    "\n",
    "import math as m\n",
    "\n",
    "from scipy import stats \n",
    "from statsmodels.stats.proportion import proportions_ztest\n",
    "from statsmodels.stats.proportion import binom_test"
   ]
  },
  {
   "cell_type": "code",
   "execution_count": 7,
   "metadata": {},
   "outputs": [
    {
     "output_type": "execute_result",
     "data": {
      "text/plain": [
       "           Metrics     Estimator       dmin\n",
       "0   Num of Cookies  40000.000000  3000.0000\n",
       "1    Num of Clicks   3200.000000   240.0000\n",
       "2  Num of User-ids    660.000000   -50.0000\n",
       "3              CTR      0.080000     0.0100\n",
       "4               GC      0.206250    -0.0100\n",
       "5               RR      0.530000     0.0100\n",
       "6               NC      0.109313     0.0075"
      ],
      "text/html": "<div>\n<style scoped>\n    .dataframe tbody tr th:only-of-type {\n        vertical-align: middle;\n    }\n\n    .dataframe tbody tr th {\n        vertical-align: top;\n    }\n\n    .dataframe thead th {\n        text-align: right;\n    }\n</style>\n<table border=\"1\" class=\"dataframe\">\n  <thead>\n    <tr style=\"text-align: right;\">\n      <th></th>\n      <th>Metrics</th>\n      <th>Estimator</th>\n      <th>dmin</th>\n    </tr>\n  </thead>\n  <tbody>\n    <tr>\n      <th>0</th>\n      <td>Num of Cookies</td>\n      <td>40000.000000</td>\n      <td>3000.0000</td>\n    </tr>\n    <tr>\n      <th>1</th>\n      <td>Num of Clicks</td>\n      <td>3200.000000</td>\n      <td>240.0000</td>\n    </tr>\n    <tr>\n      <th>2</th>\n      <td>Num of User-ids</td>\n      <td>660.000000</td>\n      <td>-50.0000</td>\n    </tr>\n    <tr>\n      <th>3</th>\n      <td>CTR</td>\n      <td>0.080000</td>\n      <td>0.0100</td>\n    </tr>\n    <tr>\n      <th>4</th>\n      <td>GC</td>\n      <td>0.206250</td>\n      <td>-0.0100</td>\n    </tr>\n    <tr>\n      <th>5</th>\n      <td>RR</td>\n      <td>0.530000</td>\n      <td>0.0100</td>\n    </tr>\n    <tr>\n      <th>6</th>\n      <td>NC</td>\n      <td>0.109313</td>\n      <td>0.0075</td>\n    </tr>\n  </tbody>\n</table>\n</div>"
     },
     "metadata": {},
     "execution_count": 7
    }
   ],
   "source": [
    "\n",
    "# some baseline numbers given by Udacity\n",
    "\n",
    "baseline = pd.DataFrame({\n",
    "    'Metrics': [\"Num of Cookies\", \"Num of Clicks\", \"Num of User-ids\", \"CTR\", \"GC\", \"RR\", \"NC\"],\n",
    "    'Estimator': [40000, 3200, 660, 0.08, 0.20625, 0.53, 0.109313],\n",
    "    'dmin': [3000, 240, -50, 0.01, -0.01, 0.01, 0.0075]\n",
    "})\n",
    "\n",
    "baseline "
   ]
  },
  {
   "cell_type": "markdown",
   "metadata": {},
   "source": [
    "## Scaling & Measuring variability\n",
    "\n",
    "- given a sample size of 5000 cookies, what are evaluation metrics' SE? \n"
   ]
  },
  {
   "cell_type": "code",
   "execution_count": 8,
   "metadata": {},
   "outputs": [
    {
     "output_type": "execute_result",
     "data": {
      "text/plain": [
       "           Metrics     Estimator       dmin  Scaled\n",
       "0   Num of Cookies  40000.000000  3000.0000  5000.0\n",
       "1    Num of Clicks   3200.000000   240.0000   400.0\n",
       "2  Num of User-ids    660.000000   -50.0000    82.5\n",
       "3              CTR      0.080000     0.0100     NaN\n",
       "4               GC      0.206250    -0.0100     NaN\n",
       "5               RR      0.530000     0.0100     NaN\n",
       "6               NC      0.109313     0.0075     NaN"
      ],
      "text/html": "<div>\n<style scoped>\n    .dataframe tbody tr th:only-of-type {\n        vertical-align: middle;\n    }\n\n    .dataframe tbody tr th {\n        vertical-align: top;\n    }\n\n    .dataframe thead th {\n        text-align: right;\n    }\n</style>\n<table border=\"1\" class=\"dataframe\">\n  <thead>\n    <tr style=\"text-align: right;\">\n      <th></th>\n      <th>Metrics</th>\n      <th>Estimator</th>\n      <th>dmin</th>\n      <th>Scaled</th>\n    </tr>\n  </thead>\n  <tbody>\n    <tr>\n      <th>0</th>\n      <td>Num of Cookies</td>\n      <td>40000.000000</td>\n      <td>3000.0000</td>\n      <td>5000.0</td>\n    </tr>\n    <tr>\n      <th>1</th>\n      <td>Num of Clicks</td>\n      <td>3200.000000</td>\n      <td>240.0000</td>\n      <td>400.0</td>\n    </tr>\n    <tr>\n      <th>2</th>\n      <td>Num of User-ids</td>\n      <td>660.000000</td>\n      <td>-50.0000</td>\n      <td>82.5</td>\n    </tr>\n    <tr>\n      <th>3</th>\n      <td>CTR</td>\n      <td>0.080000</td>\n      <td>0.0100</td>\n      <td>NaN</td>\n    </tr>\n    <tr>\n      <th>4</th>\n      <td>GC</td>\n      <td>0.206250</td>\n      <td>-0.0100</td>\n      <td>NaN</td>\n    </tr>\n    <tr>\n      <th>5</th>\n      <td>RR</td>\n      <td>0.530000</td>\n      <td>0.0100</td>\n      <td>NaN</td>\n    </tr>\n    <tr>\n      <th>6</th>\n      <td>NC</td>\n      <td>0.109313</td>\n      <td>0.0075</td>\n      <td>NaN</td>\n    </tr>\n  </tbody>\n</table>\n</div>"
     },
     "metadata": {},
     "execution_count": 8
    }
   ],
   "source": [
    "# find estimated size for number of clicks and number of user ids\n",
    "\n",
    "baseline['Scaled'] = np.nan\n",
    "\n",
    "def get_scale(data, sample, index):\n",
    "    \n",
    "    baseline['Scaled'][0] = sample\n",
    "    multiple = data['Estimator'][0]/sample\n",
    "    return data['Estimator'][index]/multiple\n",
    "\n",
    "for i in [1,2]:\n",
    "    baseline['Scaled'][i] =get_scale(baseline, 5000,i)\n",
    "\n",
    "baseline"
   ]
  },
  {
   "cell_type": "markdown",
   "metadata": {},
   "source": [
    "\n",
    "\n",
    "$SE = \\sqrt{(\\hat{p} *(1-\\hat{p}) / N)}$\n",
    "\n",
    "- ... where $\\hat{p}$ is the estimator value of each evaluation metrics \n",
    "- and $N_{estimated}$ is the estimated sample size to calcutae SE for each evaluation metrics, given 5000 cookies \n",
    "- **Assumption**: we're assuming that, with large sample, we can use normal distribution to estimate metric variability.\n",
    "\n"
   ]
  },
  {
   "cell_type": "code",
   "execution_count": 9,
   "metadata": {},
   "outputs": [
    {
     "output_type": "execute_result",
     "data": {
      "text/plain": [
       "           Metrics     Estimator       dmin  Scaled        SE\n",
       "0   Num of Cookies  40000.000000  3000.0000  5000.0       NaN\n",
       "1    Num of Clicks   3200.000000   240.0000   400.0       NaN\n",
       "2  Num of User-ids    660.000000   -50.0000    82.5       NaN\n",
       "3              CTR      0.080000     0.0100     NaN       NaN\n",
       "4               GC      0.206250    -0.0100     NaN  0.020231\n",
       "5               RR      0.530000     0.0100     NaN  0.054949\n",
       "6               NC      0.109313     0.0075     NaN  0.015602"
      ],
      "text/html": "<div>\n<style scoped>\n    .dataframe tbody tr th:only-of-type {\n        vertical-align: middle;\n    }\n\n    .dataframe tbody tr th {\n        vertical-align: top;\n    }\n\n    .dataframe thead th {\n        text-align: right;\n    }\n</style>\n<table border=\"1\" class=\"dataframe\">\n  <thead>\n    <tr style=\"text-align: right;\">\n      <th></th>\n      <th>Metrics</th>\n      <th>Estimator</th>\n      <th>dmin</th>\n      <th>Scaled</th>\n      <th>SE</th>\n    </tr>\n  </thead>\n  <tbody>\n    <tr>\n      <th>0</th>\n      <td>Num of Cookies</td>\n      <td>40000.000000</td>\n      <td>3000.0000</td>\n      <td>5000.0</td>\n      <td>NaN</td>\n    </tr>\n    <tr>\n      <th>1</th>\n      <td>Num of Clicks</td>\n      <td>3200.000000</td>\n      <td>240.0000</td>\n      <td>400.0</td>\n      <td>NaN</td>\n    </tr>\n    <tr>\n      <th>2</th>\n      <td>Num of User-ids</td>\n      <td>660.000000</td>\n      <td>-50.0000</td>\n      <td>82.5</td>\n      <td>NaN</td>\n    </tr>\n    <tr>\n      <th>3</th>\n      <td>CTR</td>\n      <td>0.080000</td>\n      <td>0.0100</td>\n      <td>NaN</td>\n      <td>NaN</td>\n    </tr>\n    <tr>\n      <th>4</th>\n      <td>GC</td>\n      <td>0.206250</td>\n      <td>-0.0100</td>\n      <td>NaN</td>\n      <td>0.020231</td>\n    </tr>\n    <tr>\n      <th>5</th>\n      <td>RR</td>\n      <td>0.530000</td>\n      <td>0.0100</td>\n      <td>NaN</td>\n      <td>0.054949</td>\n    </tr>\n    <tr>\n      <th>6</th>\n      <td>NC</td>\n      <td>0.109313</td>\n      <td>0.0075</td>\n      <td>NaN</td>\n      <td>0.015602</td>\n    </tr>\n  </tbody>\n</table>\n</div>"
     },
     "metadata": {},
     "execution_count": 9
    }
   ],
   "source": [
    "\n",
    "baseline['SE'] = np.nan\n",
    "\n",
    "def get_se(N, p):\n",
    "    return np.sqrt(p*(1-p)/N)\n",
    "\n",
    "# Gross conversion: number of user_ids enrolled / number of clicks\n",
    "baseline['SE'][4] = get_se(baseline['Scaled'][1], baseline['Estimator'][4])\n",
    "# Rentention: number of user_ids who paid / number of user_ids enrolled\n",
    "baseline['SE'][5] = get_se(baseline['Scaled'][2], baseline['Estimator'][5])\n",
    "# Net conversion: number of user_ids who paid / number of clicks\n",
    "baseline['SE'][6] = get_se(baseline['Scaled'][1], baseline['Estimator'][6])\n",
    "\n",
    "baseline"
   ]
  },
  {
   "cell_type": "markdown",
   "metadata": {},
   "source": [
    "## Sizing \n",
    "### Choosing Number of Samples given Power - how many pageviews/cookies we need?\n",
    "\n",
    "\n",
    "Given by Udacity, $\\alpha$ (Type I error rate) will be 0.05, and $\\beta$ (Type II error) will be 0.2 (so the power of experiment would be 1-0.2 = 0.8)\n",
    "\n",
    "#### Sample size of each group, assuming different standard deviations for two groups*\n",
    "\n",
    "> An online calculator we can apply here: https://www.evanmiller.org/ab-testing/sample-size.html \n",
    "\n",
    "\n",
    "\n"
   ]
  },
  {
   "cell_type": "code",
   "execution_count": 10,
   "metadata": {},
   "outputs": [
    {
     "output_type": "stream",
     "name": "stdout",
     "text": [
      "The required maximun sample size is 4746061.0\n"
     ]
    },
    {
     "output_type": "execute_result",
     "data": {
      "text/plain": [
       "           Metrics     Estimator       dmin  Scaled        SE     Sample\n",
       "0   Num of Cookies  40000.000000  3000.0000  5000.0       NaN        NaN\n",
       "1    Num of Clicks   3200.000000   240.0000   400.0       NaN        NaN\n",
       "2  Num of User-ids    660.000000   -50.0000    82.5       NaN        NaN\n",
       "3              CTR      0.080000     0.0100     NaN       NaN        NaN\n",
       "4               GC      0.206250    -0.0100     NaN  0.020231   645875.0\n",
       "5               RR      0.530000     0.0100     NaN  0.054949  4746061.0\n",
       "6               NC      0.109313     0.0075     NaN  0.015602   685325.0"
      ],
      "text/html": "<div>\n<style scoped>\n    .dataframe tbody tr th:only-of-type {\n        vertical-align: middle;\n    }\n\n    .dataframe tbody tr th {\n        vertical-align: top;\n    }\n\n    .dataframe thead th {\n        text-align: right;\n    }\n</style>\n<table border=\"1\" class=\"dataframe\">\n  <thead>\n    <tr style=\"text-align: right;\">\n      <th></th>\n      <th>Metrics</th>\n      <th>Estimator</th>\n      <th>dmin</th>\n      <th>Scaled</th>\n      <th>SE</th>\n      <th>Sample</th>\n    </tr>\n  </thead>\n  <tbody>\n    <tr>\n      <th>0</th>\n      <td>Num of Cookies</td>\n      <td>40000.000000</td>\n      <td>3000.0000</td>\n      <td>5000.0</td>\n      <td>NaN</td>\n      <td>NaN</td>\n    </tr>\n    <tr>\n      <th>1</th>\n      <td>Num of Clicks</td>\n      <td>3200.000000</td>\n      <td>240.0000</td>\n      <td>400.0</td>\n      <td>NaN</td>\n      <td>NaN</td>\n    </tr>\n    <tr>\n      <th>2</th>\n      <td>Num of User-ids</td>\n      <td>660.000000</td>\n      <td>-50.0000</td>\n      <td>82.5</td>\n      <td>NaN</td>\n      <td>NaN</td>\n    </tr>\n    <tr>\n      <th>3</th>\n      <td>CTR</td>\n      <td>0.080000</td>\n      <td>0.0100</td>\n      <td>NaN</td>\n      <td>NaN</td>\n      <td>NaN</td>\n    </tr>\n    <tr>\n      <th>4</th>\n      <td>GC</td>\n      <td>0.206250</td>\n      <td>-0.0100</td>\n      <td>NaN</td>\n      <td>0.020231</td>\n      <td>645875.0</td>\n    </tr>\n    <tr>\n      <th>5</th>\n      <td>RR</td>\n      <td>0.530000</td>\n      <td>0.0100</td>\n      <td>NaN</td>\n      <td>0.054949</td>\n      <td>4746061.0</td>\n    </tr>\n    <tr>\n      <th>6</th>\n      <td>NC</td>\n      <td>0.109313</td>\n      <td>0.0075</td>\n      <td>NaN</td>\n      <td>0.015602</td>\n      <td>685325.0</td>\n    </tr>\n  </tbody>\n</table>\n</div>"
     },
     "metadata": {},
     "execution_count": 10
    }
   ],
   "source": [
    "\n",
    "a = 0.05\n",
    "b = 0.2\n",
    "\n",
    "baseline['Sample'] = np.nan\n",
    "\n",
    "# With help of calculator, for GC, RR, and NC, we have...\n",
    "\n",
    "group_sample = [25835, 39155, 27413]\n",
    "\n",
    "# however, since how many samples avaliable for testing GC/RR/NC are determined by clicks through rate/enrollment rate/enrollments rate (see the use flow diagram), we need further adjust the number\n",
    "\n",
    "def get_sample(n, index):\n",
    "    if index in [4,6]:\n",
    "        n = round((n*2)/baseline['Estimator'][3])\n",
    "        return n\n",
    "    else:\n",
    "        enroll_rate = baseline['Estimator'][2]/baseline['Estimator'][0]\n",
    "        n = round(n*2)/ enroll_rate\n",
    "        return n \n",
    "\n",
    "for i in [4,5,6]:\n",
    "    baseline['Sample'][i] = round(get_sample(group_sample[i-4], i))\n",
    "\n",
    "print(f'The required maximun sample size is {baseline[\"Sample\"].max()}')\n",
    "\n",
    "baseline"
   ]
  },
  {
   "cell_type": "markdown",
   "metadata": {},
   "source": [
    "### Choosing Duration vs. Exposure\n",
    "\n",
    "$D = N_{required} / N_{traffic}$"
   ]
  },
  {
   "cell_type": "code",
   "execution_count": 11,
   "metadata": {},
   "outputs": [],
   "source": [
    "\n",
    "def get_d(index, traffic):\n",
    "\n",
    "    if index == 5:\n",
    "        # if test all three evaluation metrics or retention rate only\n",
    "        d = m.ceil(baseline[\"Sample\"].max()/(40000*traffic))\n",
    "    elif index == 6:\n",
    "        # if test net conversion rate only (or together with gross conversion)\n",
    "        d = m.ceil(baseline[\"Sample\"][6]/(40000*traffic))\n",
    "    elif index == 4:\n",
    "        # if test gross conversion rate only\n",
    "        d = m.ceil(baseline[\"Sample\"][4]/(40000*traffic))\n",
    "    return d\n",
    "\n",
    "def get_d_traffic(traffic):\n",
    "    for i in [4,5,6]:\n",
    "        print(f'Test {baseline[\"Metrics\"][i]} with {traffic*100}% traffic requires: {get_d(i, traffic)} days.')"
   ]
  },
  {
   "cell_type": "code",
   "execution_count": 12,
   "metadata": {},
   "outputs": [
    {
     "output_type": "stream",
     "name": "stdout",
     "text": [
      "Test GC with 100% traffic requires: 17 days.\nTest RR with 100% traffic requires: 119 days.\nTest NC with 100% traffic requires: 18 days.\n"
     ]
    }
   ],
   "source": [
    "# assume we have 100% traffic (if not 100%, the there might be other experiments going on in the website)\n",
    "\n",
    "get_d_traffic(1)"
   ]
  },
  {
   "cell_type": "code",
   "execution_count": 13,
   "metadata": {},
   "outputs": [
    {
     "output_type": "stream",
     "name": "stdout",
     "text": [
      "Test GC with 70.0% traffic requires: 24 days.\nTest RR with 70.0% traffic requires: 170 days.\nTest NC with 70.0% traffic requires: 25 days.\n"
     ]
    }
   ],
   "source": [
    "# assume we have 70%% traffic (if not 100%, the there might be other experiments going on in the website)\n",
    "\n",
    "get_d_traffic(0.7)\n"
   ]
  },
  {
   "cell_type": "code",
   "execution_count": 14,
   "metadata": {},
   "outputs": [
    {
     "output_type": "stream",
     "name": "stdout",
     "text": [
      "Test GC with 50.0% traffic requires: 33 days.\nTest RR with 50.0% traffic requires: 238 days.\nTest NC with 50.0% traffic requires: 35 days.\n"
     ]
    }
   ],
   "source": [
    "# assume we have 50% traffic (if not 100%, the there might be other experiments going on in the website)\n",
    "\n",
    "get_d_traffic(0.5)\n"
   ]
  },
  {
   "cell_type": "markdown",
   "metadata": {},
   "source": [
    "#### Based on the analysis here, clearly retention rate is not a good metric choice as it takes too long to test. Therefore, choosing Gross Conversion (GC) and Net Conversion (NC) are more practical."
   ]
  },
  {
   "cell_type": "markdown",
   "metadata": {},
   "source": [
    "## Sanity Check - are invariant metrics stay the same for both group?\n",
    "\n",
    " - Number of cookies (pageviews)\n",
    " - Number of clicks \n",
    " "
   ]
  },
  {
   "cell_type": "code",
   "execution_count": 15,
   "metadata": {},
   "outputs": [
    {
     "output_type": "execute_result",
     "data": {
      "text/plain": [
       "          Date  Pageviews  Clicks  Enrollments  Payments\n",
       "0  Sat, Oct 11       7723     687        134.0      70.0\n",
       "1  Sun, Oct 12       9102     779        147.0      70.0\n",
       "2  Mon, Oct 13      10511     909        167.0      95.0\n",
       "3  Tue, Oct 14       9871     836        156.0     105.0\n",
       "4  Wed, Oct 15      10014     837        163.0      64.0"
      ],
      "text/html": "<div>\n<style scoped>\n    .dataframe tbody tr th:only-of-type {\n        vertical-align: middle;\n    }\n\n    .dataframe tbody tr th {\n        vertical-align: top;\n    }\n\n    .dataframe thead th {\n        text-align: right;\n    }\n</style>\n<table border=\"1\" class=\"dataframe\">\n  <thead>\n    <tr style=\"text-align: right;\">\n      <th></th>\n      <th>Date</th>\n      <th>Pageviews</th>\n      <th>Clicks</th>\n      <th>Enrollments</th>\n      <th>Payments</th>\n    </tr>\n  </thead>\n  <tbody>\n    <tr>\n      <th>0</th>\n      <td>Sat, Oct 11</td>\n      <td>7723</td>\n      <td>687</td>\n      <td>134.0</td>\n      <td>70.0</td>\n    </tr>\n    <tr>\n      <th>1</th>\n      <td>Sun, Oct 12</td>\n      <td>9102</td>\n      <td>779</td>\n      <td>147.0</td>\n      <td>70.0</td>\n    </tr>\n    <tr>\n      <th>2</th>\n      <td>Mon, Oct 13</td>\n      <td>10511</td>\n      <td>909</td>\n      <td>167.0</td>\n      <td>95.0</td>\n    </tr>\n    <tr>\n      <th>3</th>\n      <td>Tue, Oct 14</td>\n      <td>9871</td>\n      <td>836</td>\n      <td>156.0</td>\n      <td>105.0</td>\n    </tr>\n    <tr>\n      <th>4</th>\n      <td>Wed, Oct 15</td>\n      <td>10014</td>\n      <td>837</td>\n      <td>163.0</td>\n      <td>64.0</td>\n    </tr>\n  </tbody>\n</table>\n</div>"
     },
     "metadata": {},
     "execution_count": 15
    }
   ],
   "source": [
    "# load the data\n",
    "\n",
    "cont = pd.read_excel('Final Project Results.xlsx', sheet_name='Control')\n",
    "exp = pd.read_excel('Final Project Results.xlsx', sheet_name='Experiment')\n",
    "\n",
    "cont.head()"
   ]
  },
  {
   "cell_type": "code",
   "execution_count": 16,
   "metadata": {},
   "outputs": [
    {
     "output_type": "stream",
     "name": "stdout",
     "text": [
      "<class 'pandas.core.frame.DataFrame'>\nRangeIndex: 37 entries, 0 to 36\nData columns (total 5 columns):\n #   Column       Non-Null Count  Dtype  \n---  ------       --------------  -----  \n 0   Date         37 non-null     object \n 1   Pageviews    37 non-null     int64  \n 2   Clicks       37 non-null     int64  \n 3   Enrollments  23 non-null     float64\n 4   Payments     23 non-null     float64\ndtypes: float64(2), int64(2), object(1)\nmemory usage: 1.6+ KB\n"
     ]
    }
   ],
   "source": [
    "cont.info()"
   ]
  },
  {
   "cell_type": "code",
   "execution_count": 43,
   "metadata": {},
   "outputs": [
    {
     "output_type": "execute_result",
     "data": {
      "text/plain": [
       "          Date  Pageviews  Clicks  Enrollments  Payments\n",
       "0  Sat, Oct 11       7716     686        105.0      34.0\n",
       "1  Sun, Oct 12       9288     785        116.0      91.0\n",
       "2  Mon, Oct 13      10480     884        145.0      79.0\n",
       "3  Tue, Oct 14       9867     827        138.0      92.0\n",
       "4  Wed, Oct 15       9793     832        140.0      94.0"
      ],
      "text/html": "<div>\n<style scoped>\n    .dataframe tbody tr th:only-of-type {\n        vertical-align: middle;\n    }\n\n    .dataframe tbody tr th {\n        vertical-align: top;\n    }\n\n    .dataframe thead th {\n        text-align: right;\n    }\n</style>\n<table border=\"1\" class=\"dataframe\">\n  <thead>\n    <tr style=\"text-align: right;\">\n      <th></th>\n      <th>Date</th>\n      <th>Pageviews</th>\n      <th>Clicks</th>\n      <th>Enrollments</th>\n      <th>Payments</th>\n    </tr>\n  </thead>\n  <tbody>\n    <tr>\n      <th>0</th>\n      <td>Sat, Oct 11</td>\n      <td>7716</td>\n      <td>686</td>\n      <td>105.0</td>\n      <td>34.0</td>\n    </tr>\n    <tr>\n      <th>1</th>\n      <td>Sun, Oct 12</td>\n      <td>9288</td>\n      <td>785</td>\n      <td>116.0</td>\n      <td>91.0</td>\n    </tr>\n    <tr>\n      <th>2</th>\n      <td>Mon, Oct 13</td>\n      <td>10480</td>\n      <td>884</td>\n      <td>145.0</td>\n      <td>79.0</td>\n    </tr>\n    <tr>\n      <th>3</th>\n      <td>Tue, Oct 14</td>\n      <td>9867</td>\n      <td>827</td>\n      <td>138.0</td>\n      <td>92.0</td>\n    </tr>\n    <tr>\n      <th>4</th>\n      <td>Wed, Oct 15</td>\n      <td>9793</td>\n      <td>832</td>\n      <td>140.0</td>\n      <td>94.0</td>\n    </tr>\n  </tbody>\n</table>\n</div>"
     },
     "metadata": {},
     "execution_count": 43
    }
   ],
   "source": [
    "exp.head()"
   ]
  },
  {
   "cell_type": "code",
   "execution_count": 18,
   "metadata": {},
   "outputs": [
    {
     "output_type": "stream",
     "name": "stdout",
     "text": [
      "<class 'pandas.core.frame.DataFrame'>\nRangeIndex: 37 entries, 0 to 36\nData columns (total 5 columns):\n #   Column       Non-Null Count  Dtype  \n---  ------       --------------  -----  \n 0   Date         37 non-null     object \n 1   Pageviews    37 non-null     int64  \n 2   Clicks       37 non-null     int64  \n 3   Enrollments  23 non-null     float64\n 4   Payments     23 non-null     float64\ndtypes: float64(2), int64(2), object(1)\nmemory usage: 1.6+ KB\n"
     ]
    }
   ],
   "source": [
    "exp.info()"
   ]
  },
  {
   "cell_type": "code",
   "execution_count": 24,
   "metadata": {},
   "outputs": [
    {
     "output_type": "stream",
     "name": "stdout",
     "text": [
      "Total samples: 690203\nTreatment group sample: 344660\ncontrol group samples: 345543\n"
     ]
    }
   ],
   "source": [
    "exp_sample = exp.Pageviews.sum()\n",
    "cont_sample = cont.Pageviews.sum()\n",
    "total_sample = exp_sample+cont_sample\n",
    "print(f'Total samples: {total_sample}\\nTreatment group sample: {exp_sample}\\ncontrol group samples: {cont_sample}')\n"
   ]
  },
  {
   "cell_type": "code",
   "execution_count": 25,
   "metadata": {},
   "outputs": [
    {
     "output_type": "stream",
     "name": "stdout",
     "text": [
      "Total clicks: 56703\nTreatment group clicks: 28325\ncontrol group clicks: 28378\n"
     ]
    }
   ],
   "source": [
    "exp_clicks = exp.Clicks.sum()\n",
    "cont_clicks = cont.Clicks.sum()\n",
    "total_clicks = exp_clicks+cont_clicks\n",
    "print(f'Total clicks: {total_clicks}\\nTreatment group clicks: {exp_clicks}\\ncontrol group clicks: {cont_clicks}')\n"
   ]
  },
  {
   "cell_type": "markdown",
   "metadata": {},
   "source": [
    "#### Number of cookies (pageviews), number of clicks, and CTR\n",
    "\n",
    "\n",
    "- Standard error: $SE = \\sqrt{(\\hat{p} *(1-\\hat{p}) / N)}$\n",
    "- Confidence interval: $p \\pm Z_{\\alpha/2}*SE$\n",
    "\n",
    ".. where $\\alpha = 0.05$, $p = 0.5$\n",
    "\n",
    "\n"
   ]
  },
  {
   "cell_type": "code",
   "execution_count": 38,
   "metadata": {},
   "outputs": [
    {
     "output_type": "stream",
     "name": "stdout",
     "text": [
      "Test: Pageviews, p_hat: 0.4994, upper bound ci: 0.5012, lower bound: 0.4988; Test result: Pass\nTest: Clicks, p_hat: 0.4995, upper bound ci: 0.5041, lower bound: 0.4959; Test result: Pass\nTest: CTR, p_hat: 0.0821, upper bound ci: 0.0835, lower bound: 0.0809; Test result: Pass\n"
     ]
    }
   ],
   "source": [
    "def passed(metric, p, alpha):\n",
    "    if metric == 'Pageviews':\n",
    "        p_hat = exp_sample/total_sample\n",
    "        se = np.sqrt(p_hat*(1-p_hat)/total_sample)\n",
    "    elif metric == 'Clicks':\n",
    "        p_hat = exp_clicks/total_clicks\n",
    "        se = np.sqrt(p_hat*(1-p_hat)/total_clicks)\n",
    "    elif metric == 'CTR':\n",
    "        p = exp_clicks/exp_sample\n",
    "        p_hat = cont_clicks / cont_sample\n",
    "        se = np.sqrt(p_hat*(1-p_hat)*((1/cont_sample)+(1/exp_sample)))\n",
    "\n",
    "    upper = p+(stats.norm.ppf(1-alpha/2)*se)\n",
    "    lower = p-(stats.norm.ppf(1-alpha/2)*se)\n",
    "\n",
    "    if p_hat>upper or p_hat <lower:\n",
    "        result = 'Not pass'\n",
    "    else:\n",
    "        result = 'Pass'\n",
    "\n",
    "    return p_hat, upper, lower, result\n",
    "\n",
    "for i in ['Pageviews', 'Clicks','CTR']:\n",
    "    p_hat, upper, lower, result = passed(i, 0.5, 0.05)\n",
    "    print(f'Test: {i}, p_hat: {round(p_hat,4)}, upper bound ci: {round(upper,4)}, lower bound: {round(lower,4)}; Test result: {result}')\n"
   ]
  },
  {
   "cell_type": "markdown",
   "metadata": {},
   "source": [
    "According to the result of sanity check, all invariant metrics passed the test."
   ]
  },
  {
   "cell_type": "markdown",
   "metadata": {},
   "source": [
    "### Test Analysis\n",
    "\n",
    "Since we will only use gross conversion and net conversion as evaluation metrics, therefore we can further refine our null hypothesis and alternative hypothesis.\n",
    "\n",
    "For gross conversion ($GC$)\n",
    "- $H_{0}: GC_{experiment} \\ne GC_{control}$\n",
    "- $H_{a}: GC_{experiment} = GC_{control}$\n",
    "\n",
    "For net conversion ($NC$)\n",
    "- $H_{0}: NC_{experiment} \\ne NC_{control}$\n",
    "- $H_{a}: NC_{experiment} = NC_{control}$\n",
    "\n",
    "In the dataset given by Udaicty, there are only 23 days of observations for both payments and enrollments. Therefore we need to adjust sample size we used in this test.\n"
   ]
  },
  {
   "cell_type": "code",
   "execution_count": 229,
   "metadata": {},
   "outputs": [],
   "source": [
    "exp_clicks_adj = exp.Clicks[:23].sum()\n",
    "cont_clicks_adj = cont.Clicks[:23].sum()\n",
    "total_clicks_adj = exp_clicks_adj+cont_clicks_adj\n",
    "\n",
    "def test_result(metric, diff_min, alpha = 0.05, diff_null = 0):\n",
    "    n_exp = exp_clicks_adj\n",
    "    n_cont = cont_clicks_adj\n",
    "    if metric == 'GC':\n",
    "        x_exp = exp.Enrollments.sum()\n",
    "        x_cont = cont.Enrollments.sum()\n",
    "        p_exp = exp.Enrollments.sum() / exp_clicks_adj\n",
    "        p_cont = cont.Enrollments.sum() / cont_clicks_adj\n",
    "    elif metric == 'NC':\n",
    "        x_exp = exp.Payments.sum()\n",
    "        x_cont = cont.Payments.sum()\n",
    "        p_exp = exp.Payments.sum() / exp_clicks_adj\n",
    "        p_cont = cont.Payments.sum() / cont_clicks_adj\n",
    "\n",
    "    p_pool = (x_exp + x_cont) / (n_exp + n_cont)\n",
    "\n",
    "    se_pool = np.sqrt(p_pool*(1-p_pool)*((1/n_exp)+(1/n_cont)))\n",
    "\n",
    "    diff = p_exp - p_cont\n",
    "\n",
    "    me = stats.norm.ppf(1-(alpha)/2) * se_pool\n",
    "    upper = diff + me\n",
    "    lower = diff - me\n",
    "\n",
    "    # Z_ss = (diff - diff_null)/se_pool # critical value for statistically significant \n",
    "    # Z_ps = (diff + diff_min)/se_pool # critical value for practically significant \n",
    "\n",
    "    if diff_null > upper or diff_null < lower:\n",
    "        result_ss = 'Statisticaly significant: Yes, 0 does not fall with in C.I.'\n",
    "    else:\n",
    "        result_ss = 'Statisticaly significant: No, 0 falls within C.I.'\n",
    "\n",
    "    if diff_min < upper and diff_min > lower:\n",
    "        result_ps = 'Practically significant: Yes, d_min falls with in C.I.'\n",
    "    else:\n",
    "        result_ps = 'Practically significant: No, d_min does not fall within C.I.'\n",
    "\n",
    "    print(f'The test results for {metric} are: \\n{result_ss}\\n{result_ps}')\n",
    "    print(f'Observed diff: {round(diff,4)}\\nd_min: {round(diff_min,4)}')\n",
    "    print(f'Lower bound {round(lower,4)}; Upper bound {round(upper,4)}\\n')\n"
   ]
  },
  {
   "cell_type": "code",
   "execution_count": 230,
   "metadata": {},
   "outputs": [
    {
     "output_type": "stream",
     "name": "stdout",
     "text": [
      "The test results for GC are: \nStatisticaly significant: Yes, 0 does not fall with in C.I.\nPractically significant: No, d_min does not fall within C.I.\nObserved diff: -0.0206\nd_min: -0.01\nLower bound -0.0291; Upper bound -0.012\n\nThe test results for NC are: \nStatisticaly significant: No, 0 falls within C.I.\nPractically significant: No, d_min does not fall within C.I.\nObserved diff: -0.0049\nd_min: 0.0075\nLower bound -0.0116; Upper bound 0.0019\n\n"
     ]
    }
   ],
   "source": [
    "for m,i in zip(['GC', 'NC'],[4,6]):\n",
    "    test_result(m, baseline['dmin'][i])"
   ]
  },
  {
   "cell_type": "markdown",
   "metadata": {},
   "source": [
    "## Summary\n",
    "\n",
    "Therefore, only Gross Conversion is statistically signifcant affected by the change made by Udacity. However, although 0 is not included in the C.I. and therefore statistically signifcant, minimal difference required which is -0.01 also not included in the C.I. This indicates that, at 95% chance, there is a signifcant change in Gross Conversion but this effect is not strong enough to be practical.\n",
    "\n",
    "Net Conversion, on ther other hand, was neither statistically signifcant or practically. There is 0 included in the C.I, and minimal difference required (0.0075) also not included in C.I. \n",
    "\n",
    "Since this test is deisgned to determine if Udacity should launching 'ask about time commitment' can improve student experience without signifcantly reducing students who end up continuing the course and paying, we can therefore conclude that this new feature would help reducing number of students who enrolled, and numbers of students who pay would not signifcantly change. However, the reduction in gross Conversion might not be practically signifcant, probably due to cost or technical reasons. \n",
    "\n",
    "#### Overall, it is still a good choice to launch the feature, but this decision would be partly depend on how important the minimal required change is to Udacity's business and cost structure. Without further information, it is hard to analyze but it's a good idea for where to go in next step.\n"
   ]
  },
  {
   "cell_type": "code",
   "execution_count": null,
   "metadata": {},
   "outputs": [],
   "source": []
  },
  {
   "cell_type": "code",
   "execution_count": null,
   "metadata": {},
   "outputs": [],
   "source": []
  },
  {
   "cell_type": "code",
   "execution_count": null,
   "metadata": {},
   "outputs": [],
   "source": []
  },
  {
   "cell_type": "code",
   "execution_count": null,
   "metadata": {},
   "outputs": [],
   "source": []
  }
 ]
}